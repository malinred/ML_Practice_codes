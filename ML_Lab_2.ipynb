{
  "nbformat": 4,
  "nbformat_minor": 0,
  "metadata": {
    "colab": {
      "provenance": [],
      "authorship_tag": "ABX9TyOezdYHlh2LrNTfT0ayU6hL",
      "include_colab_link": true
    },
    "kernelspec": {
      "name": "python3",
      "display_name": "Python 3"
    },
    "language_info": {
      "name": "python"
    }
  },
  "cells": [
    {
      "cell_type": "markdown",
      "metadata": {
        "id": "view-in-github",
        "colab_type": "text"
      },
      "source": [
        "<a href=\"https://colab.research.google.com/github/malinred/ML_Practice_codes/blob/main/ML_Lab_2.ipynb\" target=\"_parent\"><img src=\"https://colab.research.google.com/assets/colab-badge.svg\" alt=\"Open In Colab\"/></a>"
      ]
    },
    {
      "cell_type": "code",
      "source": [
        "# AYUSH JOHN DANIEL\n",
        "# BL.EN.U4AIE23150\n",
        "\n",
        "# Link to Github repository page\n",
        "https://github.com/malinred/ML_Practice_codes/blob/34f35338d0c9bc3cbaf39477b7c0a5de0deeaa7d/ML_Lab_2.ipynb\n",
        "\n",
        "#imports\n",
        "from sklearn.linear_model import LogisticRegression\n",
        "from sklearn.preprocessing import MinMaxScaler\n",
        "import matplotlib.pyplot as plt\n",
        "import numpy as np\n",
        "import pandas as pd\n",
        "import statistics"
      ],
      "metadata": {
        "id": "kcPS78j_gbqH"
      },
      "execution_count": 35,
      "outputs": []
    },
    {
      "cell_type": "code",
      "execution_count": 2,
      "metadata": {
        "colab": {
          "base_uri": "https://localhost:8080/",
          "height": 0
        },
        "id": "LlKdun48DHTs",
        "outputId": "3c52369c-3086-4d4c-b1fd-40ba0696129e"
      },
      "outputs": [
        {
          "output_type": "stream",
          "name": "stdout",
          "text": [
            "\n",
            "Dim= 3\n",
            "num of vectors = 10\n",
            "Rank= 3\n",
            "\n",
            "pinv= [[-0.01008596 -0.03124505  0.01013951  0.0290728   0.0182907   0.01161794\n",
            "  -0.00771348  0.00095458  0.01743623 -0.00542016]\n",
            " [ 0.09059668  0.07263726  0.03172933 -0.09071908 -0.01893196 -0.06926996\n",
            "   0.05675464  0.03152577 -0.07641966  0.00357352]\n",
            " [ 0.00299878  0.15874243 -0.05795468 -0.06609024 -0.06295043  0.03348017\n",
            "   0.01541831 -0.01070461  0.00029003  0.05938755]]\n",
            "\n",
            "Model vector? =  [ 1. 55. 18.]\n"
          ]
        }
      ],
      "source": [
        "#Q1\n",
        "df = pd.read_excel(r\"/content/Lab Session Data.xlsx\", sheet_name='Purchase data')\n",
        "A = df[['Candies (#)', 'Mangoes (Kg)', 'Milk Packets (#)']].copy() #this was done so that no change comes to the original data\n",
        "C = df['Payment (Rs)'].values\n",
        "print(\"\\nDim=\", A.shape[1])\n",
        "\n",
        "print(\"num of vectors =\", A.shape[0])\n",
        "\n",
        "print(\"Rank=\", np.linalg.matrix_rank(A.values))\n",
        "\n",
        "A_pinv = np.linalg.pinv(A.values)\n",
        "print(\"\\npinv=\",A_pinv)\n",
        "#Q2\n",
        "X = A_pinv.dot(C)\n",
        "print(\"\\nModel vector? = \", X)"
      ]
    },
    {
      "cell_type": "code",
      "source": [
        "#Q3\n",
        "df['Customer_Class'] = ['RICH' if x > 200 else 'POOR' for x in df['Payment (Rs)']]\n",
        "headers = df[['Candies (#)', 'Mangoes (Kg)', 'Milk Packets (#)']]\n",
        "prices = df['Customer_Class']\n",
        "\n",
        "main_func = LogisticRegression(max_iter=1000)\n",
        "main_func.fit(headers, prices)\n",
        "\n",
        "print(main_func.predict(headers))\n"
      ],
      "metadata": {
        "colab": {
          "base_uri": "https://localhost:8080/",
          "height": 0
        },
        "id": "UhOqpxsvbcwL",
        "outputId": "66f2a7cf-50f2-45a8-a997-7cc9c1f04b41"
      },
      "execution_count": 3,
      "outputs": [
        {
          "output_type": "stream",
          "name": "stdout",
          "text": [
            "['RICH' 'RICH' 'RICH' 'POOR' 'RICH' 'POOR' 'RICH' 'RICH' 'POOR' 'POOR']\n"
          ]
        }
      ]
    },
    {
      "cell_type": "code",
      "source": [
        "#Q4\n",
        "sp = pd.read_excel(r'/content/Lab Session Data.xlsx', sheet_name= 'IRCTC Stock Price')\n",
        "#'Date', 'Month', 'Day', 'Price', 'Open', 'High', 'Low', 'Volume', 'Chg%'\n",
        "B = sp[['Price']].copy()\n",
        "print(f'Mean of the price coulumn - {statistics.mean(sp[\"Price\"])} \\nVariance of the price coulumn - {statistics.variance(sp[\"Price\"])}')"
      ],
      "metadata": {
        "id": "5jEweSBjg6IO",
        "colab": {
          "base_uri": "https://localhost:8080/",
          "height": 0
        },
        "outputId": "82710ce8-26ef-4ba4-c199-83119da94e39"
      },
      "execution_count": 4,
      "outputs": [
        {
          "output_type": "stream",
          "name": "stdout",
          "text": [
            "Mean of the price coulumn - 1560.663453815261 \n",
            "Variance of the price coulumn - 58732.365352539186\n"
          ]
        }
      ]
    },
    {
      "cell_type": "code",
      "source": [
        "sp['Date'] = pd.to_datetime(sp['Date'])\n",
        "wednesday_data = sp[sp['Date'].dt.day_name() == 'Wednesday']\n",
        "wednesday_prices = wednesday_data['Price']\n",
        "sample_mean_wed = statistics.mean(wednesday_prices)\n",
        "print(\"Wednesday Sample Mean (Price):\", sample_mean_wed)\n"
      ],
      "metadata": {
        "colab": {
          "base_uri": "https://localhost:8080/",
          "height": 0
        },
        "id": "D1wMZ2CQZo_y",
        "outputId": "e7b0f756-eb2f-4bfa-f236-9f18d010b72e"
      },
      "execution_count": 5,
      "outputs": [
        {
          "output_type": "stream",
          "name": "stdout",
          "text": [
            "Wednesday Sample Mean (Price): 1550.706\n"
          ]
        }
      ]
    },
    {
      "cell_type": "code",
      "source": [
        "april_data = sp[sp['Month'] == 'Apr']\n",
        "april_prices = april_data['Price']\n",
        "sample_mean_apr = statistics.mean(april_prices)\n",
        "print(\"April Sample Mean (Price):\", sample_mean_apr)"
      ],
      "metadata": {
        "colab": {
          "base_uri": "https://localhost:8080/",
          "height": 0
        },
        "id": "00zlMOtfihCO",
        "outputId": "6cb22047-dfbf-4e32-9bfe-8cebb15d584d"
      },
      "execution_count": 6,
      "outputs": [
        {
          "output_type": "stream",
          "name": "stdout",
          "text": [
            "April Sample Mean (Price): 1698.9526315789474\n"
          ]
        }
      ]
    },
    {
      "cell_type": "code",
      "source": [
        "profit_wed_count = wednesday_data['Chg%'].apply(lambda x: x > 0).sum()\n",
        "total_wed_count = len(wednesday_data)\n",
        "prob_profit_wed = profit_wed_count / total_wed_count\n",
        "print(\"Probability of making a profit on Wednesday:\", prob_profit_wed)"
      ],
      "metadata": {
        "id": "SrrhypCki_Gj",
        "colab": {
          "base_uri": "https://localhost:8080/",
          "height": 0
        },
        "outputId": "03358136-50d8-4fee-a895-026022e3ff15"
      },
      "execution_count": 7,
      "outputs": [
        {
          "output_type": "stream",
          "name": "stdout",
          "text": [
            "Probability of making a profit on Wednesday: 0.42\n"
          ]
        }
      ]
    },
    {
      "cell_type": "code",
      "source": [
        "sp['DayName'] = sp['Date'].dt.day_name()\n",
        "plt.scatter(sp['DayName'], sp['Chg%'], alpha=0.7)\n",
        "plt.xlabel(\"Day\")\n",
        "plt.ylabel(\"Chg%\")\n",
        "plt.grid(True)\n",
        "plt.show()"
      ],
      "metadata": {
        "colab": {
          "base_uri": "https://localhost:8080/",
          "height": 452
        },
        "id": "H68y4UM9-fI0",
        "outputId": "ee962721-4f22-4da4-adaa-49b38f1a8177"
      },
      "execution_count": 8,
      "outputs": [
        {
          "output_type": "display_data",
          "data": {
            "text/plain": [
              "<Figure size 640x480 with 1 Axes>"
            ],
            "image/png": "[encoded data removed]"
          },
          "metadata": {}
        }
      ]
    },
    {
      "cell_type": "code",
      "source": [
        "#Q5\n",
        "tdf = pd.read_excel(r\"/content/Lab Session Data.xlsx\", sheet_name='thyroid0387_UCI')\n",
        "#a\n",
        "print(tdf.dtypes)"
      ],
      "metadata": {
        "id": "y4Ydox1rHXuw",
        "colab": {
          "base_uri": "https://localhost:8080/",
          "height": 0
        },
        "outputId": "c78d71fe-4c16-4cd5-8d42-51fe252b8406"
      },
      "execution_count": 23,
      "outputs": [
        {
          "output_type": "stream",
          "name": "stdout",
          "text": [
            "Record ID                     int64\n",
            "age                           int64\n",
            "sex                          object\n",
            "on thyroxine                 object\n",
            "query on thyroxine           object\n",
            "on antithyroid medication    object\n",
            "sick                         object\n",
            "pregnant                     object\n",
            "thyroid surgery              object\n",
            "I131 treatment               object\n",
            "query hypothyroid            object\n",
            "query hyperthyroid           object\n",
            "lithium                      object\n",
            "goitre                       object\n",
            "tumor                        object\n",
            "hypopituitary                object\n",
            "psych                        object\n",
            "TSH measured                 object\n",
            "TSH                          object\n",
            "T3 measured                  object\n",
            "T3                           object\n",
            "TT4 measured                 object\n",
            "TT4                          object\n",
            "T4U measured                 object\n",
            "T4U                          object\n",
            "FTI measured                 object\n",
            "FTI                          object\n",
            "TBG measured                 object\n",
            "TBG                          object\n",
            "referral source              object\n",
            "Condition                    object\n",
            "dtype: object\n"
          ]
        }
      ]
    },
    {
      "cell_type": "code",
      "source": [
        "#c\n",
        "numerical = tdf.select_dtypes(include=[np.number]).columns\n",
        "print(tdf[numerical].describe())"
      ],
      "metadata": {
        "colab": {
          "base_uri": "https://localhost:8080/",
          "height": 0
        },
        "id": "9qQn8sPfTLRB",
        "outputId": "0264bbe9-e0f6-4ba2-a5ef-9eccce41d5b9"
      },
      "execution_count": 24,
      "outputs": [
        {
          "output_type": "stream",
          "name": "stdout",
          "text": [
            "          Record ID           age\n",
            "count  9.172000e+03   9172.000000\n",
            "mean   8.529473e+08     73.555822\n",
            "std    7.581969e+06   1183.976718\n",
            "min    8.408010e+08      1.000000\n",
            "25%    8.504090e+08     37.000000\n",
            "50%    8.510040e+08     55.000000\n",
            "75%    8.607110e+08     68.000000\n",
            "max    8.701190e+08  65526.000000\n"
          ]
        }
      ]
    },
    {
      "cell_type": "code",
      "source": [
        "#d\n",
        "print(tdf.isnull())"
      ],
      "metadata": {
        "colab": {
          "base_uri": "https://localhost:8080/",
          "height": 0
        },
        "id": "u3cxqyUCZMEP",
        "outputId": "e484e5e2-6f61-47b5-ee17-f48aaf1430e7"
      },
      "execution_count": 25,
      "outputs": [
        {
          "output_type": "stream",
          "name": "stdout",
          "text": [
            "      Record ID    age    sex  on thyroxine  query on thyroxine  \\\n",
            "0         False  False  False         False               False   \n",
            "1         False  False  False         False               False   \n",
            "2         False  False  False         False               False   \n",
            "3         False  False  False         False               False   \n",
            "4         False  False  False         False               False   \n",
            "...         ...    ...    ...           ...                 ...   \n",
            "9167      False  False  False         False               False   \n",
            "9168      False  False  False         False               False   \n",
            "9169      False  False  False         False               False   \n",
            "9170      False  False  False         False               False   \n",
            "9171      False  False  False         False               False   \n",
            "\n",
            "      on antithyroid medication   sick  pregnant  thyroid surgery  \\\n",
            "0                         False  False     False            False   \n",
            "1                         False  False     False            False   \n",
            "2                         False  False     False            False   \n",
            "3                         False  False     False            False   \n",
            "4                         False  False     False            False   \n",
            "...                         ...    ...       ...              ...   \n",
            "9167                      False  False     False            False   \n",
            "9168                      False  False     False            False   \n",
            "9169                      False  False     False            False   \n",
            "9170                      False  False     False            False   \n",
            "9171                      False  False     False            False   \n",
            "\n",
            "      I131 treatment  ...  TT4 measured    TT4  T4U measured    T4U  \\\n",
            "0              False  ...         False  False         False  False   \n",
            "1              False  ...         False  False         False  False   \n",
            "2              False  ...         False  False         False  False   \n",
            "3              False  ...         False  False         False  False   \n",
            "4              False  ...         False  False         False  False   \n",
            "...              ...  ...           ...    ...           ...    ...   \n",
            "9167           False  ...         False  False         False  False   \n",
            "9168           False  ...         False  False         False  False   \n",
            "9169           False  ...         False  False         False  False   \n",
            "9170           False  ...         False  False         False  False   \n",
            "9171           False  ...         False  False         False  False   \n",
            "\n",
            "      FTI measured    FTI  TBG measured    TBG  referral source  Condition  \n",
            "0            False  False         False  False            False      False  \n",
            "1            False  False         False  False            False      False  \n",
            "2            False  False         False  False            False      False  \n",
            "3            False  False         False  False            False      False  \n",
            "4            False  False         False  False            False      False  \n",
            "...            ...    ...           ...    ...              ...        ...  \n",
            "9167         False  False         False  False            False      False  \n",
            "9168         False  False         False  False            False      False  \n",
            "9169         False  False         False  False            False      False  \n",
            "9170         False  False         False  False            False      False  \n",
            "9171         False  False         False  False            False      False  \n",
            "\n",
            "[9172 rows x 31 columns]\n"
          ]
        }
      ]
    },
    {
      "cell_type": "code",
      "source": [
        "#f\n",
        "for col in numerical:\n",
        "    mean_val = tdf[col].mean()\n",
        "    variance_val = tdf[col].var()\n",
        "    std_val = tdf[col].std()\n",
        "    print(f\"{col} -> Mean: {mean_val:.3f}, Variance: {variance_val:.3f}, Std Dev: {std_val:.3f}\")"
      ],
      "metadata": {
        "colab": {
          "base_uri": "https://localhost:8080/",
          "height": 0
        },
        "id": "kPRIIDwgZMPT",
        "outputId": "ce3e483a-87c2-4ac0-c73a-bf112ecb8b57"
      },
      "execution_count": 26,
      "outputs": [
        {
          "output_type": "stream",
          "name": "stdout",
          "text": [
            "Record ID -> Mean: 852947346.612, Variance: 57486250586150.344, Std Dev: 7581968.780\n",
            "age -> Mean: 73.556, Variance: 1401800.869, Std Dev: 1183.977\n"
          ]
        }
      ]
    },
    {
      "cell_type": "code",
      "source": [
        "#e\n",
        "\n",
        "# Method used for detection of outliers is known as - IQR\n",
        "# Q1 = df[col].quantile(0.25)\n",
        "# Q3 = df[col].quantile(0.75)  A range of 25% to 75% is taken so that it encompasses the central 50% of the dat\n",
        "# IQR = Q3 -Q1\n",
        "# Lower Bound=Q1−1.5×IQR\n",
        "# Upper Bound=Q3+1.5×IQR     Anything that falls outside the 25% to 75% range is considered a outlier\n",
        "\n",
        "for col in numerical:\n",
        "    print(f\"\\n Loop for - {col}\")\n",
        "    Q1 = tdf[col].quantile(0.25)\n",
        "    Q3 = tdf[col].quantile(0.75)\n",
        "    IQR = Q3 - Q1\n",
        "    lower_bound = Q1 - 1.5 * IQR\n",
        "    upper_bound = Q3 + 1.5 * IQR\n",
        "    outliers = tdf[(thyroid_df[col] < lower_bound) | (tdf[col] > upper_bound)]\n",
        "    # Note - A6 starts from here\n",
        "    if not outliers.empty:\n",
        "        impute_value = tdf[col].median()\n",
        "        print(f\"Column '{col}': Outliers detected (count = {outliers}). Using median imputation: {impute_value}\")\n",
        "    else:\n",
        "        impute_value = tdf[col].mean()\n",
        "        print(f\"Column '{col}': No significant outliers. Using mean imputation: {impute_value}\")\n",
        "\n",
        "\n",
        "\n",
        "    tdf[col].fillna(impute_value)\n",
        "    print(tdf[col])"
      ],
      "metadata": {
        "colab": {
          "base_uri": "https://localhost:8080/",
          "height": 0
        },
        "id": "zpOvADSgZQQH",
        "outputId": "7a05c730-beec-4025-ffc2-5514b1324f10"
      },
      "execution_count": 34,
      "outputs": [
        {
          "output_type": "stream",
          "name": "stdout",
          "text": [
            "\n",
            " Loop for - Record ID\n",
            "Column 'Record ID': No significant outliers. Using mean imputation: 852947346.6122983\n",
            "0       840801013\n",
            "1       840801014\n",
            "2       840801042\n",
            "3       840803046\n",
            "4       840803047\n",
            "          ...    \n",
            "9167    870119022\n",
            "9168    870119023\n",
            "9169    870119025\n",
            "9170    870119027\n",
            "9171    870119035\n",
            "Name: Record ID, Length: 9172, dtype: int64\n",
            "\n",
            " Loop for - age\n",
            "Column 'age': Outliers detected (count =       Record ID    age sex on thyroxine query on thyroxine  \\\n",
            "2976  850530001    455   F            f                  f   \n",
            "5710  860210008  65511   M            f                  f   \n",
            "6392  860403050  65512   M            f                  f   \n",
            "8105  861014041  65526   F            f                  f   \n",
            "\n",
            "     on antithyroid medication sick pregnant thyroid surgery I131 treatment  \\\n",
            "2976                         f    f        f               f              f   \n",
            "5710                         f    f        f               f              f   \n",
            "6392                         f    f        f               f              f   \n",
            "8105                         f    f        f               f              f   \n",
            "\n",
            "      ... TT4 measured  TT4 T4U measured   T4U FTI measured  FTI TBG measured  \\\n",
            "2976  ...            t  118            t  1.13            t  104            f   \n",
            "5710  ...            t  113            t  1.08            t  104            f   \n",
            "6392  ...            t  112            t  0.84            t  133            f   \n",
            "8105  ...            t  132            t  1.02            t  129            f   \n",
            "\n",
            "     TBG referral source     Condition  \n",
            "2976   ?             SVI  NO CONDITION  \n",
            "5710   ?           other  NO CONDITION  \n",
            "6392   ?           other  NO CONDITION  \n",
            "8105   ?           other  NO CONDITION  \n",
            "\n",
            "[4 rows x 31 columns]). Using median imputation: 55.0\n",
            "0       29\n",
            "1       29\n",
            "2       41\n",
            "3       36\n",
            "4       32\n",
            "        ..\n",
            "9167    56\n",
            "9168    22\n",
            "9169    69\n",
            "9170    47\n",
            "9171    31\n",
            "Name: age, Length: 9172, dtype: int64\n"
          ]
        }
      ]
    },
    {
      "cell_type": "code",
      "source": [
        "#A7\n",
        "print(\"Numeric columns that will be normalized:\", numerical.tolist())\n",
        "\n",
        "tdf_normalized = tdf.copy()\n",
        "scaler = MinMaxScaler()\n",
        "tdf_normalized[numerical] = scaler.fit_transform(thyroid_df_normalized[numerical])\n",
        "#tdf_normalized = tdf_normalized.replace({'f': 0, 't': 1}) # for some reason it is not converting f into 0 and t to 1\n",
        "print(\"\\nNormalized data:\")\n",
        "print(thyroid_df_normalized.head())\n"
      ],
      "metadata": {
        "colab": {
          "base_uri": "https://localhost:8080/",
          "height": 0
        },
        "id": "7jNVm82lZszN",
        "outputId": "9944014d-b594-4dd3-d8f6-ba2905e73395"
      },
      "execution_count": 42,
      "outputs": [
        {
          "output_type": "stream",
          "name": "stdout",
          "text": [
            "Numeric columns that will be normalized: ['Record ID', 'age']\n",
            "\n",
            "Normalized data:\n",
            "   Record ID  age sex on thyroxine query on thyroxine  \\\n",
            "0  840801013   29   F            f                  f   \n",
            "1  840801014   29   F            f                  f   \n",
            "2  840801042   41   F            f                  f   \n",
            "3  840803046   36   F            f                  f   \n",
            "4  840803047   32   F            f                  f   \n",
            "\n",
            "  on antithyroid medication sick pregnant thyroid surgery I131 treatment  ...  \\\n",
            "0                         f    f        f               f              f  ...   \n",
            "1                         f    f        f               f              f  ...   \n",
            "2                         f    f        f               f              f  ...   \n",
            "3                         f    f        f               f              f  ...   \n",
            "4                         f    f        f               f              f  ...   \n",
            "\n",
            "  TT4 measured  TT4 T4U measured T4U FTI measured FTI TBG measured TBG  \\\n",
            "0            f    ?            f   ?            f   ?            f   ?   \n",
            "1            t  128            f   ?            f   ?            f   ?   \n",
            "2            f    ?            f   ?            f   ?            t  11   \n",
            "3            f    ?            f   ?            f   ?            t  26   \n",
            "4            f    ?            f   ?            f   ?            t  36   \n",
            "\n",
            "  referral source     Condition  \n",
            "0           other  NO CONDITION  \n",
            "1           other  NO CONDITION  \n",
            "2           other  NO CONDITION  \n",
            "3           other  NO CONDITION  \n",
            "4           other             S  \n",
            "\n",
            "[5 rows x 31 columns]\n"
          ]
        }
      ]
    }
  ]
}